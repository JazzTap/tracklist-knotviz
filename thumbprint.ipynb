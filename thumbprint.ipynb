{
 "cells": [
  {
   "cell_type": "markdown",
   "metadata": {},
   "source": [
    "Munges CSV to JSON for playlist graph."
   ]
  },
  {
   "cell_type": "code",
   "execution_count": 1,
   "metadata": {},
   "outputs": [],
   "source": [
    "import json\n",
    "import random\n",
    "\n",
    "# analytics api wranglers\n",
    "import lyricsgenius # has aggressive versioning requirements\n",
    "import spotipy"
   ]
  },
  {
   "cell_type": "code",
   "execution_count": 2,
   "metadata": {},
   "outputs": [
    {
     "data": {
      "text/plain": [
       "{'artist': 'dropping daylight', 'song': 'tell me'}"
      ]
     },
     "execution_count": 2,
     "metadata": {},
     "output_type": "execute_result"
    }
   ],
   "source": [
    "rows = []\n",
    "with open('thumbprint.csv') as f:\n",
    "    cols = [s.strip() for s in f.readline().split(',')]\n",
    "    for line in f:\n",
    "        if '---' not in line:\n",
    "            # linker will remove duplicates\n",
    "            rows.append( dict(zip(cols, [s.strip() for s in line.split(',')])) )\n",
    "\n",
    "        # else: rows.append( dict(empty=True) )\n",
    "rows[-1]"
   ]
  },
  {
   "cell_type": "code",
   "execution_count": 3,
   "metadata": {},
   "outputs": [
    {
     "data": {
      "text/plain": [
       "54"
      ]
     },
     "execution_count": 3,
     "metadata": {},
     "output_type": "execute_result"
    }
   ],
   "source": [
    "links = []\n",
    "\n",
    "u = rows[0]\n",
    "nodes = [u]\n",
    "\n",
    "i,j = 0,1 # indexes of u,v\n",
    "k = 0 # duplicate count\n",
    "\n",
    "for v in rows[1:]:\n",
    "    if v in nodes:\n",
    "        j = nodes.index(v)\n",
    "        k += 1\n",
    "    else:\n",
    "        j = len(nodes)\n",
    "        nodes.append(v)\n",
    "    \n",
    "    if i != 0 and j != 0:\n",
    "        links.append( dict(source=i, target=j) )\n",
    "    i = j\n",
    "    u = v\n",
    "    \n",
    "k"
   ]
  },
  {
   "cell_type": "markdown",
   "metadata": {},
   "source": [
    "#### Generate lyrics dictionary."
   ]
  },
  {
   "cell_type": "code",
   "execution_count": 5,
   "metadata": {},
   "outputs": [],
   "source": [
    "with open('config/token.txt', 'r') as f:\n",
    "    genius_token = f.readline().strip()\n",
    "    \n",
    "lg = lyricsgenius.Genius(genius_token)\n",
    "man = SpotifyClientCredentials(client_id=spotify_id,\n",
    "                               client_secret=spotify_token)"
   ]
  },
  {
   "cell_type": "raw",
   "metadata": {
    "scrolled": true
   },
   "source": [
    "# debug shim\n",
    "u = nodes[random.randint(0, len(nodes))]\n",
    "\n",
    "res = lg.search_song(u['song'], u['artist'])\n",
    "if res:    \n",
    "    verses = [s for s in res.lyrics.split('\\n') \\\n",
    "              if '[' not in s and s is not '']\n",
    "    r = 3\n",
    "    i = random.randint(0,len(verses)-r)\n",
    "    print( verses[i:i+r] )"
   ]
  },
  {
   "cell_type": "raw",
   "metadata": {},
   "source": [
    "# convert folio from dict to list\n",
    "for k,v in tmp.items():"
   ]
  },
  {
   "cell_type": "code",
   "execution_count": 6,
   "metadata": {},
   "outputs": [],
   "source": [
    "folio = []\n",
    "with open('gen/lyrics-dict.json') as f:\n",
    "    folio = json.load(f)"
   ]
  },
  {
   "cell_type": "code",
   "execution_count": 7,
   "metadata": {
    "scrolled": true
   },
   "outputs": [
    {
     "data": {
      "text/plain": [
       "[[\"don't say a word\",\n",
       "  ['I am your poison candygram',\n",
       "   \"The love that's meant to fade away\",\n",
       "   \"Vade retro, alter ego, move aside, I'm choking on this life\"]],\n",
       " ['words as weapons',\n",
       "  ['All I really want is something beautiful to say',\n",
       "   'All I really want is something beautiful to say',\n",
       "   'Keep me locked up in your broken mind']],\n",
       " ['famous last words',\n",
       "  ['Now I know', \"That I can't make you stay\", \"But where's your heart?\"]]]"
      ]
     },
     "execution_count": 7,
     "metadata": {},
     "output_type": "execute_result"
    }
   ],
   "source": [
    "[[u['song'], u['lyrics'][0:3]] for u in folio if 'word' in u['song']]"
   ]
  },
  {
   "cell_type": "code",
   "execution_count": 9,
   "metadata": {
    "scrolled": true
   },
   "outputs": [],
   "source": [
    "# supplement file if incomplete\n",
    "def fetchLyrics(filename, ret):\n",
    "    key, lyrics = None, None\n",
    "    \n",
    "    with open(filename) as f:\n",
    "        for line in f:\n",
    "            if (line[0] is '#'):\n",
    "                if key:\n",
    "                    # push collected lyrics\n",
    "                    song, artist = key.split(', ')\n",
    "                    idx = [i for i,u in enumerate(nodes) if song in u['song'] \\\n",
    "                                                       and artist in u['artist']]\n",
    "                        # ASSERT: checking artist too yields unambiguity\n",
    "                        \n",
    "                    # ...unless they're already present (VERIFY)\n",
    "                    if len(idx) > 0 and not folio.any(u => u.id == idx):\n",
    "                        folio.append({'artist': artist, 'song': song,\n",
    "                                      'lyrics': lyrics, 'id': idx[0]})\n",
    "                    \n",
    "                key = line[1:-1].strip() # song, artist\n",
    "                lyrics = []\n",
    "            elif key:\n",
    "                s = line.strip()\n",
    "                if '[' not in s and s is not '':\n",
    "                    lyrics.append(s)\n",
    "\n",
    "fetchLyrics('config/transcriptions.txt', folio)\n",
    "fetchLyrics('config/supplements.txt', folio)\n",
    "\n",
    "# scrape Genius for everything else\n",
    "# FIXME: not updated for folio-as-list.\n",
    "for u in nodes:\n",
    "    id = u['song'] + ', ' + u['artist']\n",
    "    \n",
    "    if len([v for v in folio if u['song'] in v['song'] and u['artist'] in v['artist']]) == 0:\n",
    "        try:\n",
    "            res = lg.search_song(u['song'], u['artist'])\n",
    "            \n",
    "            verses = [s for s in res.lyrics.split('\\n') \\\n",
    "                      if '[' not in s and s is not '']\n",
    "            folio[id] = verses\n",
    "        except:\n",
    "            pass"
   ]
  },
  {
   "cell_type": "code",
   "execution_count": 12,
   "metadata": {},
   "outputs": [],
   "source": [
    "folio.sort(key = lambda u: u['id'])"
   ]
  },
  {
   "cell_type": "code",
   "execution_count": 14,
   "metadata": {},
   "outputs": [],
   "source": [
    "# json.dumps(folio)\n",
    "with open('gen/lyrics-dict.json', 'w') as f:\n",
    "    f.write(json.dumps(folio))"
   ]
  },
  {
   "cell_type": "markdown",
   "metadata": {},
   "source": [
    "#### Annotate tracks with duration."
   ]
  },
  {
   "cell_type": "code",
   "execution_count": 78,
   "metadata": {},
   "outputs": [],
   "source": [
    "with open('config/token.txt', 'r') as f:\n",
    "    spotify_id = f.readline().strip()\n",
    "    spotify_token = f.readline().strip()\n",
    "    \n",
    "man = spotipy.oauth2.SpotifyClientCredentials(\n",
    "        client_id=spotify_id, client_secret=spotify_token)\n",
    "sp = spotipy.Spotify(client_credentials_manager=man)"
   ]
  },
  {
   "cell_type": "code",
   "execution_count": 79,
   "metadata": {
    "scrolled": true
   },
   "outputs": [
    {
     "ename": "SpotifyOauthError",
     "evalue": "Bad Request",
     "output_type": "error",
     "traceback": [
      "\u001b[0;31m---------------------------------------------------------------------------\u001b[0m",
      "\u001b[0;31mSpotifyOauthError\u001b[0m                         Traceback (most recent call last)",
      "\u001b[0;32m<ipython-input-79-a654d70ed97d>\u001b[0m in \u001b[0;36m<module>\u001b[0;34m()\u001b[0m\n\u001b[1;32m      3\u001b[0m \u001b[0;34m\u001b[0m\u001b[0m\n\u001b[1;32m      4\u001b[0m res = sp.search(q='track:' + u['song'] + ' artist:' + u['artist'],\n\u001b[0;32m----> 5\u001b[0;31m                 type='track', limit=1)\n\u001b[0m\u001b[1;32m      6\u001b[0m \u001b[0;32mif\u001b[0m \u001b[0mres\u001b[0m\u001b[0;34m:\u001b[0m\u001b[0;34m\u001b[0m\u001b[0m\n\u001b[1;32m      7\u001b[0m     \u001b[0mv\u001b[0m \u001b[0;34m=\u001b[0m \u001b[0mres\u001b[0m\u001b[0;34m[\u001b[0m\u001b[0;34m'tracks'\u001b[0m\u001b[0;34m]\u001b[0m\u001b[0;34m[\u001b[0m\u001b[0;34m'items'\u001b[0m\u001b[0;34m]\u001b[0m\u001b[0;34m\u001b[0m\u001b[0m\n",
      "\u001b[0;32m~/anaconda3/lib/python3.6/site-packages/spotipy/client.py\u001b[0m in \u001b[0;36msearch\u001b[0;34m(self, q, limit, offset, type, market)\u001b[0m\n\u001b[1;32m    337\u001b[0m                 \u001b[0;34m-\u001b[0m \u001b[0mmarket\u001b[0m \u001b[0;34m-\u001b[0m \u001b[0mAn\u001b[0m \u001b[0mISO\u001b[0m \u001b[0;36m3166\u001b[0m\u001b[0;34m-\u001b[0m\u001b[0;36m1\u001b[0m \u001b[0malpha\u001b[0m\u001b[0;34m-\u001b[0m\u001b[0;36m2\u001b[0m \u001b[0mcountry\u001b[0m \u001b[0mcode\u001b[0m \u001b[0;32mor\u001b[0m \u001b[0mthe\u001b[0m \u001b[0mstring\u001b[0m \u001b[0mfrom_token\u001b[0m\u001b[0;34m.\u001b[0m\u001b[0;34m\u001b[0m\u001b[0m\n\u001b[1;32m    338\u001b[0m         '''\n\u001b[0;32m--> 339\u001b[0;31m         \u001b[0;32mreturn\u001b[0m \u001b[0mself\u001b[0m\u001b[0;34m.\u001b[0m\u001b[0m_get\u001b[0m\u001b[0;34m(\u001b[0m\u001b[0;34m'search'\u001b[0m\u001b[0;34m,\u001b[0m \u001b[0mq\u001b[0m\u001b[0;34m=\u001b[0m\u001b[0mq\u001b[0m\u001b[0;34m,\u001b[0m \u001b[0mlimit\u001b[0m\u001b[0;34m=\u001b[0m\u001b[0mlimit\u001b[0m\u001b[0;34m,\u001b[0m \u001b[0moffset\u001b[0m\u001b[0;34m=\u001b[0m\u001b[0moffset\u001b[0m\u001b[0;34m,\u001b[0m \u001b[0mtype\u001b[0m\u001b[0;34m=\u001b[0m\u001b[0mtype\u001b[0m\u001b[0;34m,\u001b[0m \u001b[0mmarket\u001b[0m\u001b[0;34m=\u001b[0m\u001b[0mmarket\u001b[0m\u001b[0;34m)\u001b[0m\u001b[0;34m\u001b[0m\u001b[0m\n\u001b[0m\u001b[1;32m    340\u001b[0m \u001b[0;34m\u001b[0m\u001b[0m\n\u001b[1;32m    341\u001b[0m     \u001b[0;32mdef\u001b[0m \u001b[0muser\u001b[0m\u001b[0;34m(\u001b[0m\u001b[0mself\u001b[0m\u001b[0;34m,\u001b[0m \u001b[0muser\u001b[0m\u001b[0;34m)\u001b[0m\u001b[0;34m:\u001b[0m\u001b[0;34m\u001b[0m\u001b[0m\n",
      "\u001b[0;32m~/anaconda3/lib/python3.6/site-packages/spotipy/client.py\u001b[0m in \u001b[0;36m_get\u001b[0;34m(self, url, args, payload, **kwargs)\u001b[0m\n\u001b[1;32m    144\u001b[0m         \u001b[0;32mwhile\u001b[0m \u001b[0mretries\u001b[0m \u001b[0;34m>\u001b[0m \u001b[0;36m0\u001b[0m\u001b[0;34m:\u001b[0m\u001b[0;34m\u001b[0m\u001b[0m\n\u001b[1;32m    145\u001b[0m             \u001b[0;32mtry\u001b[0m\u001b[0;34m:\u001b[0m\u001b[0;34m\u001b[0m\u001b[0m\n\u001b[0;32m--> 146\u001b[0;31m                 \u001b[0;32mreturn\u001b[0m \u001b[0mself\u001b[0m\u001b[0;34m.\u001b[0m\u001b[0m_internal_call\u001b[0m\u001b[0;34m(\u001b[0m\u001b[0;34m'GET'\u001b[0m\u001b[0;34m,\u001b[0m \u001b[0murl\u001b[0m\u001b[0;34m,\u001b[0m \u001b[0mpayload\u001b[0m\u001b[0;34m,\u001b[0m \u001b[0mkwargs\u001b[0m\u001b[0;34m)\u001b[0m\u001b[0;34m\u001b[0m\u001b[0m\n\u001b[0m\u001b[1;32m    147\u001b[0m             \u001b[0;32mexcept\u001b[0m \u001b[0mSpotifyException\u001b[0m \u001b[0;32mas\u001b[0m \u001b[0me\u001b[0m\u001b[0;34m:\u001b[0m\u001b[0;34m\u001b[0m\u001b[0m\n\u001b[1;32m    148\u001b[0m                 \u001b[0mretries\u001b[0m \u001b[0;34m-=\u001b[0m \u001b[0;36m1\u001b[0m\u001b[0;34m\u001b[0m\u001b[0m\n",
      "\u001b[0;32m~/anaconda3/lib/python3.6/site-packages/spotipy/client.py\u001b[0m in \u001b[0;36m_internal_call\u001b[0;34m(self, method, url, payload, params)\u001b[0m\n\u001b[1;32m     98\u001b[0m         \u001b[0;32mif\u001b[0m \u001b[0;32mnot\u001b[0m \u001b[0murl\u001b[0m\u001b[0;34m.\u001b[0m\u001b[0mstartswith\u001b[0m\u001b[0;34m(\u001b[0m\u001b[0;34m'http'\u001b[0m\u001b[0;34m)\u001b[0m\u001b[0;34m:\u001b[0m\u001b[0;34m\u001b[0m\u001b[0m\n\u001b[1;32m     99\u001b[0m             \u001b[0murl\u001b[0m \u001b[0;34m=\u001b[0m \u001b[0mself\u001b[0m\u001b[0;34m.\u001b[0m\u001b[0mprefix\u001b[0m \u001b[0;34m+\u001b[0m \u001b[0murl\u001b[0m\u001b[0;34m\u001b[0m\u001b[0m\n\u001b[0;32m--> 100\u001b[0;31m         \u001b[0mheaders\u001b[0m \u001b[0;34m=\u001b[0m \u001b[0mself\u001b[0m\u001b[0;34m.\u001b[0m\u001b[0m_auth_headers\u001b[0m\u001b[0;34m(\u001b[0m\u001b[0;34m)\u001b[0m\u001b[0;34m\u001b[0m\u001b[0m\n\u001b[0m\u001b[1;32m    101\u001b[0m         \u001b[0mheaders\u001b[0m\u001b[0;34m[\u001b[0m\u001b[0;34m'Content-Type'\u001b[0m\u001b[0;34m]\u001b[0m \u001b[0;34m=\u001b[0m \u001b[0;34m'application/json'\u001b[0m\u001b[0;34m\u001b[0m\u001b[0m\n\u001b[1;32m    102\u001b[0m \u001b[0;34m\u001b[0m\u001b[0m\n",
      "\u001b[0;32m~/anaconda3/lib/python3.6/site-packages/spotipy/client.py\u001b[0m in \u001b[0;36m_auth_headers\u001b[0;34m(self)\u001b[0m\n\u001b[1;32m     88\u001b[0m             \u001b[0;32mreturn\u001b[0m \u001b[0;34m{\u001b[0m\u001b[0;34m'Authorization'\u001b[0m\u001b[0;34m:\u001b[0m \u001b[0;34m'Bearer {0}'\u001b[0m\u001b[0;34m.\u001b[0m\u001b[0mformat\u001b[0m\u001b[0;34m(\u001b[0m\u001b[0mself\u001b[0m\u001b[0;34m.\u001b[0m\u001b[0m_auth\u001b[0m\u001b[0;34m)\u001b[0m\u001b[0;34m}\u001b[0m\u001b[0;34m\u001b[0m\u001b[0m\n\u001b[1;32m     89\u001b[0m         \u001b[0;32melif\u001b[0m \u001b[0mself\u001b[0m\u001b[0;34m.\u001b[0m\u001b[0mclient_credentials_manager\u001b[0m\u001b[0;34m:\u001b[0m\u001b[0;34m\u001b[0m\u001b[0m\n\u001b[0;32m---> 90\u001b[0;31m             \u001b[0mtoken\u001b[0m \u001b[0;34m=\u001b[0m \u001b[0mself\u001b[0m\u001b[0;34m.\u001b[0m\u001b[0mclient_credentials_manager\u001b[0m\u001b[0;34m.\u001b[0m\u001b[0mget_access_token\u001b[0m\u001b[0;34m(\u001b[0m\u001b[0;34m)\u001b[0m\u001b[0;34m\u001b[0m\u001b[0m\n\u001b[0m\u001b[1;32m     91\u001b[0m             \u001b[0;32mreturn\u001b[0m \u001b[0;34m{\u001b[0m\u001b[0;34m'Authorization'\u001b[0m\u001b[0;34m:\u001b[0m \u001b[0;34m'Bearer {0}'\u001b[0m\u001b[0;34m.\u001b[0m\u001b[0mformat\u001b[0m\u001b[0;34m(\u001b[0m\u001b[0mtoken\u001b[0m\u001b[0;34m)\u001b[0m\u001b[0;34m}\u001b[0m\u001b[0;34m\u001b[0m\u001b[0m\n\u001b[1;32m     92\u001b[0m         \u001b[0;32melse\u001b[0m\u001b[0;34m:\u001b[0m\u001b[0;34m\u001b[0m\u001b[0m\n",
      "\u001b[0;32m~/anaconda3/lib/python3.6/site-packages/spotipy/oauth2.py\u001b[0m in \u001b[0;36mget_access_token\u001b[0;34m(self)\u001b[0m\n\u001b[1;32m     55\u001b[0m             \u001b[0;32mreturn\u001b[0m \u001b[0mself\u001b[0m\u001b[0;34m.\u001b[0m\u001b[0mtoken_info\u001b[0m\u001b[0;34m[\u001b[0m\u001b[0;34m'access_token'\u001b[0m\u001b[0;34m]\u001b[0m\u001b[0;34m\u001b[0m\u001b[0m\n\u001b[1;32m     56\u001b[0m \u001b[0;34m\u001b[0m\u001b[0m\n\u001b[0;32m---> 57\u001b[0;31m         \u001b[0mtoken_info\u001b[0m \u001b[0;34m=\u001b[0m \u001b[0mself\u001b[0m\u001b[0;34m.\u001b[0m\u001b[0m_request_access_token\u001b[0m\u001b[0;34m(\u001b[0m\u001b[0;34m)\u001b[0m\u001b[0;34m\u001b[0m\u001b[0m\n\u001b[0m\u001b[1;32m     58\u001b[0m         \u001b[0mtoken_info\u001b[0m \u001b[0;34m=\u001b[0m \u001b[0mself\u001b[0m\u001b[0;34m.\u001b[0m\u001b[0m_add_custom_values_to_token_info\u001b[0m\u001b[0;34m(\u001b[0m\u001b[0mtoken_info\u001b[0m\u001b[0;34m)\u001b[0m\u001b[0;34m\u001b[0m\u001b[0m\n\u001b[1;32m     59\u001b[0m         \u001b[0mself\u001b[0m\u001b[0;34m.\u001b[0m\u001b[0mtoken_info\u001b[0m \u001b[0;34m=\u001b[0m \u001b[0mtoken_info\u001b[0m\u001b[0;34m\u001b[0m\u001b[0m\n",
      "\u001b[0;32m~/anaconda3/lib/python3.6/site-packages/spotipy/oauth2.py\u001b[0m in \u001b[0;36m_request_access_token\u001b[0;34m(self)\u001b[0m\n\u001b[1;32m     74\u001b[0m             headers=headers, verify=True, proxies=self.proxies)\n\u001b[1;32m     75\u001b[0m         \u001b[0;32mif\u001b[0m \u001b[0mresponse\u001b[0m\u001b[0;34m.\u001b[0m\u001b[0mstatus_code\u001b[0m \u001b[0;32mis\u001b[0m \u001b[0;32mnot\u001b[0m \u001b[0;36m200\u001b[0m\u001b[0;34m:\u001b[0m\u001b[0;34m\u001b[0m\u001b[0m\n\u001b[0;32m---> 76\u001b[0;31m             \u001b[0;32mraise\u001b[0m \u001b[0mSpotifyOauthError\u001b[0m\u001b[0;34m(\u001b[0m\u001b[0mresponse\u001b[0m\u001b[0;34m.\u001b[0m\u001b[0mreason\u001b[0m\u001b[0;34m)\u001b[0m\u001b[0;34m\u001b[0m\u001b[0m\n\u001b[0m\u001b[1;32m     77\u001b[0m         \u001b[0mtoken_info\u001b[0m \u001b[0;34m=\u001b[0m \u001b[0mresponse\u001b[0m\u001b[0;34m.\u001b[0m\u001b[0mjson\u001b[0m\u001b[0;34m(\u001b[0m\u001b[0;34m)\u001b[0m\u001b[0;34m\u001b[0m\u001b[0m\n\u001b[1;32m     78\u001b[0m         \u001b[0;32mreturn\u001b[0m \u001b[0mtoken_info\u001b[0m\u001b[0;34m\u001b[0m\u001b[0m\n",
      "\u001b[0;31mSpotifyOauthError\u001b[0m: Bad Request"
     ]
    }
   ],
   "source": [
    "# debug shim\n",
    "import asyncio\n",
    "\n",
    "res = sp.search(q='track:' + u['song'] + ' artist:' + u['artist'],\n",
    "                type='track', limit=1)\n",
    "if res:\n",
    "    v = res['tracks']['items']\n",
    "    return v[0].keys()"
   ]
  },
  {
   "cell_type": "code",
   "execution_count": null,
   "metadata": {
    "scrolled": true
   },
   "outputs": [],
   "source": [
    "for i,u in enumerate(nodes):\n",
    "    res = sp.search(q='track:' + u['song'] + ' artist:' + u['artist'],\n",
    "                        type='track', limit=1)\n",
    "\n",
    "    v = res['tracks']['items']\n",
    "    if len(v) > 0:\n",
    "        u['duration'] = v[0]['duration_ms'] / 1000\n",
    "        u['year'] = v[0]['album']['release_date'].split('-')[0]\n",
    "        u['weight'] = v[0]['popularity']\n",
    "        \n",
    "    if i%50 == 0:\n",
    "        print('...')\n",
    "\n",
    "    # seconds = v['duration_ms'] / 1000\n",
    "    # m,s = int(seconds//60), int(seconds%60)"
   ]
  },
  {
   "cell_type": "code",
   "execution_count": 247,
   "metadata": {},
   "outputs": [],
   "source": [
    "for i,u in enumerate(nodes):\n",
    "    u['id'] = i\n",
    "\n",
    "with open(\"gen/thumbprint-graph.json\", \"w\") as f:\n",
    "    f.write( json.dumps(dict(nodes=nodes[1:], links=links)) )"
   ]
  },
  {
   "cell_type": "markdown",
   "metadata": {},
   "source": [
    "#### Associational lyrics reads"
   ]
  },
  {
   "cell_type": "code",
   "execution_count": 22,
   "metadata": {
    "scrolled": true
   },
   "outputs": [
    {
     "name": "stdout",
     "output_type": "stream",
     "text": [
      "{'song': 'a song for our father', 'artist': 'explosions in the sky'} {'song': \"goshen's remains\", 'artist': 'pure reason revolution'}\n"
     ]
    },
    {
     "data": {
      "text/plain": [
       "(\"And no one knows who's in control\",\n",
       " 'You watch the shape these things are taking')"
      ]
     },
     "execution_count": 22,
     "metadata": {},
     "output_type": "execute_result"
    }
   ],
   "source": [
    "g = links[random.randint(0, len(links))]\n",
    "# for g in links:\n",
    "i,j = g['source'], g['target']\n",
    "print(nodes[i], nodes[j])\n",
    "\n",
    "lhs = random.choice(folio[i]['lyrics'])\n",
    "rhs = random.choice(folio[j]['lyrics'])\n",
    "lhs, rhs"
   ]
  },
  {
   "cell_type": "markdown",
   "metadata": {},
   "source": [
    "~~FIXME: Cache lyrics? Project onto the actual links, not UI space. Vary transmissions in realtime.~~\n",
    "\n",
    "FIXME: Spotipy client credentials flow broke, but I want key information.  \n",
    "Scrape Tunebat? (Also, explore Tunebat.)  \n",
    "Switch to ExpressJS wrapper?? https://spotify-client-credentials.glitch.me/"
   ]
  },
  {
   "cell_type": "markdown",
   "metadata": {},
   "source": [
    "#### Visualization (defunct)\n",
    "\n",
    "Sadly, the 'a-scene' likes to take over the entire notebook, instead of being a widget. "
   ]
  },
  {
   "cell_type": "raw",
   "metadata": {},
   "source": [
    "%%javascript\n",
    "// https://stackoverflow.com/a/33046042\n",
    "requirejs.config({\n",
    "    paths: { \n",
    "        'aframe': ['//aframe.io/releases/0.8.2/aframe.min'], // require adds '.js'\n",
    "        'forcegraph': ['//cdn.jsdelivr.net/gh/vasturiano/aframe-forcegraph-component/' +\n",
    "                       'dist/aframe-forcegraph-component.min']\n",
    "    },\n",
    "});\n",
    "\n",
    "require(['aframe', 'forcegraph'], function(u,v) {\n",
    "    console.log(\"Loaded :)\")\n",
    "    return {}\n",
    "});"
   ]
  },
  {
   "cell_type": "raw",
   "metadata": {},
   "source": [
    "%%html\n",
    "<a-scene stats>\n",
    "  <a-camera wasd-controls=\"fly: true; acceleration: 600\">\n",
    "    <a-cursor color=\"lavender\" opacity=\"0.5\"></a-cursor>\n",
    "  </a-camera>\n",
    "  <a-sky color=\"#002\"></a-sky>\n",
    "\n",
    "  <a-entity forcegraph=\"json-url: thumbprint-graph.json; node-label: id; node-auto-color-by: group; link-directional-arrow-length: 1.5; link-directional-arrow-rel-pos: 1;\"></a-entity>\n",
    "</a-scene>"
   ]
  }
 ],
 "metadata": {
  "kernelspec": {
   "display_name": "Python 3",
   "language": "python",
   "name": "python3"
  },
  "language_info": {
   "codemirror_mode": {
    "name": "ipython",
    "version": 3
   },
   "file_extension": ".py",
   "mimetype": "text/x-python",
   "name": "python",
   "nbconvert_exporter": "python",
   "pygments_lexer": "ipython3",
   "version": "3.6.4"
  }
 },
 "nbformat": 4,
 "nbformat_minor": 2
}
