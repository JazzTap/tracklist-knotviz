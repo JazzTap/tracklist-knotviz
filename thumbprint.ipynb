{
 "cells": [
  {
   "cell_type": "markdown",
   "metadata": {},
   "source": [
    "Munges CSV to JSON for playlist graph."
   ]
  },
  {
   "cell_type": "code",
   "execution_count": 21,
   "metadata": {},
   "outputs": [],
   "source": [
    "import json\n",
    "import random\n",
    "\n",
    "# analytics api wranglers\n",
    "import lyricsgenius # has aggressive versioning requirements\n",
    "import spotipy\n",
    "from spotipy.oauth2 import SpotifyClientCredentials"
   ]
  },
  {
   "cell_type": "code",
   "execution_count": 76,
   "metadata": {},
   "outputs": [
    {
     "data": {
      "text/plain": [
       "{'artist': 'kid architect', 'song': 'terror tone'}"
      ]
     },
     "execution_count": 76,
     "metadata": {},
     "output_type": "execute_result"
    }
   ],
   "source": [
    "rows = []\n",
    "with open('thumbprint.csv') as f:\n",
    "    cols = [s.strip() for s in f.readline().split(',')]\n",
    "    for line in f:\n",
    "        if '---' in line:\n",
    "            rows.append( {} )\n",
    "        else:\n",
    "            # linker will remove duplicates\n",
    "            rows.append( dict(zip(cols, [s.strip() for s in line.split(',')])) )\n",
    "\n",
    "        # else: rows.append( dict(empty=True) )\n",
    "rows[-1]"
   ]
  },
  {
   "cell_type": "code",
   "execution_count": 114,
   "metadata": {},
   "outputs": [
    {
     "data": {
      "text/plain": [
       "39"
      ]
     },
     "execution_count": 114,
     "metadata": {},
     "output_type": "execute_result"
    }
   ],
   "source": [
    "links = []\n",
    "\n",
    "u = rows[0]\n",
    "nodes = [] if u == {} else [u]\n",
    "\n",
    "i,j = -1,-1 # indexes of u,v\n",
    "k = 0 # duplicates count\n",
    "\n",
    "for v in rows[1:]:\n",
    "    if v == {}:\n",
    "        j = -1 # separators don't generate links\n",
    "    elif v in nodes:\n",
    "        j = nodes.index(v) # update target pointer\n",
    "        k += 1\n",
    "    else:\n",
    "        j = len(nodes) # push & update target\n",
    "        nodes.append(v)\n",
    "    \n",
    "    # if we did generate a link, add it\n",
    "    if i != -1 and j != -1:\n",
    "        links.append( dict(source=i, target=j) )\n",
    "        \n",
    "    # target becomes source\n",
    "    i = j\n",
    "    u = v\n",
    "    \n",
    "k"
   ]
  },
  {
   "cell_type": "code",
   "execution_count": 115,
   "metadata": {},
   "outputs": [],
   "source": [
    "for i,u in enumerate(nodes):\n",
    "    for j in range(i+1, len(nodes)):\n",
    "        v = nodes[j]\n",
    "        if u['artist'] == v['artist']:\n",
    "            links.append( dict(source=i, target=j, fake=True))"
   ]
  },
  {
   "cell_type": "code",
   "execution_count": 116,
   "metadata": {},
   "outputs": [
    {
     "data": {
      "text/plain": [
       "[{'source': 0, 'target': 1},\n",
       " {'source': 1, 'target': 2},\n",
       " {'source': 2, 'target': 3},\n",
       " {'source': 3, 'target': 4},\n",
       " {'source': 4, 'target': 5},\n",
       " {'source': 5, 'target': 6},\n",
       " {'source': 6, 'target': 7},\n",
       " {'source': 7, 'target': 8},\n",
       " {'source': 8, 'target': 9},\n",
       " {'source': 9, 'target': 10},\n",
       " {'source': 10, 'target': 11},\n",
       " {'source': 11, 'target': 12},\n",
       " {'source': 12, 'target': 13},\n",
       " {'source': 13, 'target': 14},\n",
       " {'source': 14, 'target': 15},\n",
       " {'source': 15, 'target': 16},\n",
       " {'source': 16, 'target': 17},\n",
       " {'source': 17, 'target': 18},\n",
       " {'source': 18, 'target': 19},\n",
       " {'source': 19, 'target': 20},\n",
       " {'source': 20, 'target': 21},\n",
       " {'source': 21, 'target': 22},\n",
       " {'source': 22, 'target': 23},\n",
       " {'source': 23, 'target': 24},\n",
       " {'source': 24, 'target': 25},\n",
       " {'source': 25, 'target': 26},\n",
       " {'source': 26, 'target': 27},\n",
       " {'source': 27, 'target': 28},\n",
       " {'source': 28, 'target': 29},\n",
       " {'source': 29, 'target': 30},\n",
       " {'source': 30, 'target': 31},\n",
       " {'source': 31, 'target': 32},\n",
       " {'source': 32, 'target': 33},\n",
       " {'source': 33, 'target': 34},\n",
       " {'source': 35, 'target': 36},\n",
       " {'source': 36, 'target': 37},\n",
       " {'source': 37, 'target': 38},\n",
       " {'source': 38, 'target': 39},\n",
       " {'source': 39, 'target': 40},\n",
       " {'source': 40, 'target': 41},\n",
       " {'source': 41, 'target': 42},\n",
       " {'source': 42, 'target': 43},\n",
       " {'source': 43, 'target': 44},\n",
       " {'source': 44, 'target': 45},\n",
       " {'source': 45, 'target': 46},\n",
       " {'source': 46, 'target': 14},\n",
       " {'source': 14, 'target': 47},\n",
       " {'source': 47, 'target': 15},\n",
       " {'source': 15, 'target': 17},\n",
       " {'source': 17, 'target': 48},\n",
       " {'source': 48, 'target': 26},\n",
       " {'source': 26, 'target': 49},\n",
       " {'source': 49, 'target': 50},\n",
       " {'source': 50, 'target': 51},\n",
       " {'source': 51, 'target': 27},\n",
       " {'source': 27, 'target': 52},\n",
       " {'source': 52, 'target': 53},\n",
       " {'source': 53, 'target': 54},\n",
       " {'source': 54, 'target': 55},\n",
       " {'source': 55, 'target': 33},\n",
       " {'source': 33, 'target': 56},\n",
       " {'source': 56, 'target': 30},\n",
       " {'source': 30, 'target': 57},\n",
       " {'source': 57, 'target': 58},\n",
       " {'source': 58, 'target': 59},\n",
       " {'source': 59, 'target': 60},\n",
       " {'source': 60, 'target': 2},\n",
       " {'source': 2, 'target': 61},\n",
       " {'source': 61, 'target': 62},\n",
       " {'source': 62, 'target': 63},\n",
       " {'source': 63, 'target': 64},\n",
       " {'source': 64, 'target': 65},\n",
       " {'source': 65, 'target': 66},\n",
       " {'source': 66, 'target': 67},\n",
       " {'source': 67, 'target': 48},\n",
       " {'source': 48, 'target': 68},\n",
       " {'source': 68, 'target': 69},\n",
       " {'source': 69, 'target': 70},\n",
       " {'source': 70, 'target': 71},\n",
       " {'source': 71, 'target': 72},\n",
       " {'source': 72, 'target': 73},\n",
       " {'source': 73, 'target': 74},\n",
       " {'source': 74, 'target': 5},\n",
       " {'source': 5, 'target': 21},\n",
       " {'source': 21, 'target': 75},\n",
       " {'source': 75, 'target': 76},\n",
       " {'source': 76, 'target': 77},\n",
       " {'source': 77, 'target': 78},\n",
       " {'source': 78, 'target': 79},\n",
       " {'source': 79, 'target': 80},\n",
       " {'source': 80, 'target': 81},\n",
       " {'source': 82, 'target': 83},\n",
       " {'source': 83, 'target': 84},\n",
       " {'source': 84, 'target': 85},\n",
       " {'source': 85, 'target': 86},\n",
       " {'source': 86, 'target': 87},\n",
       " {'source': 87, 'target': 88},\n",
       " {'source': 88, 'target': 89},\n",
       " {'source': 89, 'target': 90},\n",
       " {'source': 90, 'target': 91},\n",
       " {'source': 91, 'target': 92},\n",
       " {'source': 92, 'target': 93},\n",
       " {'source': 93, 'target': 94},\n",
       " {'source': 94, 'target': 95},\n",
       " {'source': 95, 'target': 96},\n",
       " {'source': 96, 'target': 97},\n",
       " {'source': 97, 'target': 98},\n",
       " {'source': 98, 'target': 99},\n",
       " {'source': 99, 'target': 100},\n",
       " {'source': 100, 'target': 101},\n",
       " {'source': 101, 'target': 102},\n",
       " {'source': 102, 'target': 103},\n",
       " {'source': 103, 'target': 104},\n",
       " {'source': 104, 'target': 105},\n",
       " {'source': 105, 'target': 106},\n",
       " {'source': 106, 'target': 107},\n",
       " {'source': 107, 'target': 108},\n",
       " {'source': 108, 'target': 109},\n",
       " {'source': 109, 'target': 110},\n",
       " {'source': 110, 'target': 111},\n",
       " {'source': 81, 'target': 112},\n",
       " {'source': 112, 'target': 113},\n",
       " {'source': 113, 'target': 114},\n",
       " {'source': 114, 'target': 43},\n",
       " {'source': 43, 'target': 115},\n",
       " {'source': 115, 'target': 116},\n",
       " {'source': 116, 'target': 117},\n",
       " {'source': 117, 'target': 15},\n",
       " {'source': 15, 'target': 118},\n",
       " {'source': 118, 'target': 42},\n",
       " {'source': 42, 'target': 119},\n",
       " {'source': 119, 'target': 120},\n",
       " {'source': 120, 'target': 121},\n",
       " {'source': 121, 'target': 122},\n",
       " {'source': 122, 'target': 123},\n",
       " {'source': 123, 'target': 55},\n",
       " {'source': 55, 'target': 21},\n",
       " {'source': 21, 'target': 3},\n",
       " {'source': 3, 'target': 124},\n",
       " {'source': 124, 'target': 125},\n",
       " {'source': 125, 'target': 14},\n",
       " {'source': 14, 'target': 15},\n",
       " {'source': 15, 'target': 48},\n",
       " {'source': 48, 'target': 44},\n",
       " {'source': 5, 'target': 57},\n",
       " {'source': 57, 'target': 44},\n",
       " {'source': 44, 'target': 42},\n",
       " {'source': 42, 'target': 26},\n",
       " {'source': 26, 'target': 126},\n",
       " {'source': 126, 'target': 127},\n",
       " {'source': 127, 'target': 38},\n",
       " {'source': 38, 'target': 47},\n",
       " {'source': 47, 'target': 128},\n",
       " {'source': 128, 'target': 60},\n",
       " {'source': 60, 'target': 129},\n",
       " {'source': 129, 'target': 130},\n",
       " {'source': 130, 'target': 81},\n",
       " {'source': 81, 'target': 45},\n",
       " {'source': 45, 'target': 75},\n",
       " {'source': 75, 'target': 131},\n",
       " {'source': 131, 'target': 43},\n",
       " {'source': 43, 'target': 132},\n",
       " {'source': 132, 'target': 98},\n",
       " {'source': 98, 'target': 133},\n",
       " {'source': 133, 'target': 74},\n",
       " {'source': 74, 'target': 134},\n",
       " {'source': 134, 'target': 14},\n",
       " {'source': 14, 'target': 59},\n",
       " {'source': 59, 'target': 135},\n",
       " {'source': 135, 'target': 136},\n",
       " {'source': 136, 'target': 123},\n",
       " {'source': 123, 'target': 137},\n",
       " {'source': 137, 'target': 138},\n",
       " {'fake': True, 'source': 1, 'target': 62},\n",
       " {'fake': True, 'source': 1, 'target': 90},\n",
       " {'fake': True, 'source': 1, 'target': 108},\n",
       " {'fake': True, 'source': 1, 'target': 120},\n",
       " {'fake': True, 'source': 1, 'target': 128},\n",
       " {'fake': True, 'source': 4, 'target': 21},\n",
       " {'fake': True, 'source': 4, 'target': 31},\n",
       " {'fake': True, 'source': 4, 'target': 133},\n",
       " {'fake': True, 'source': 6, 'target': 74},\n",
       " {'fake': True, 'source': 7, 'target': 98},\n",
       " {'fake': True, 'source': 8, 'target': 36},\n",
       " {'fake': True, 'source': 9, 'target': 66},\n",
       " {'fake': True, 'source': 9, 'target': 124},\n",
       " {'fake': True, 'source': 10, 'target': 65},\n",
       " {'fake': True, 'source': 12, 'target': 111},\n",
       " {'fake': True, 'source': 14, 'target': 51},\n",
       " {'fake': True, 'source': 14, 'target': 67},\n",
       " {'fake': True, 'source': 15, 'target': 105},\n",
       " {'fake': True, 'source': 16, 'target': 48},\n",
       " {'fake': True, 'source': 18, 'target': 29},\n",
       " {'fake': True, 'source': 18, 'target': 77},\n",
       " {'fake': True, 'source': 20, 'target': 44},\n",
       " {'fake': True, 'source': 20, 'target': 49},\n",
       " {'fake': True, 'source': 21, 'target': 31},\n",
       " {'fake': True, 'source': 21, 'target': 133},\n",
       " {'fake': True, 'source': 29, 'target': 77},\n",
       " {'fake': True, 'source': 31, 'target': 133},\n",
       " {'fake': True, 'source': 32, 'target': 40},\n",
       " {'fake': True, 'source': 37, 'target': 64},\n",
       " {'fake': True, 'source': 38, 'target': 53},\n",
       " {'fake': True, 'source': 38, 'target': 60},\n",
       " {'fake': True, 'source': 38, 'target': 135},\n",
       " {'fake': True, 'source': 39, 'target': 54},\n",
       " {'fake': True, 'source': 39, 'target': 61},\n",
       " {'fake': True, 'source': 39, 'target': 123},\n",
       " {'fake': True, 'source': 39, 'target': 130},\n",
       " {'fake': True, 'source': 41, 'target': 56},\n",
       " {'fake': True, 'source': 41, 'target': 58},\n",
       " {'fake': True, 'source': 41, 'target': 81},\n",
       " {'fake': True, 'source': 41, 'target': 96},\n",
       " {'fake': True, 'source': 41, 'target': 101},\n",
       " {'fake': True, 'source': 41, 'target': 117},\n",
       " {'fake': True, 'source': 44, 'target': 49},\n",
       " {'fake': True, 'source': 45, 'target': 114},\n",
       " {'fake': True, 'source': 51, 'target': 67},\n",
       " {'fake': True, 'source': 52, 'target': 59},\n",
       " {'fake': True, 'source': 53, 'target': 60},\n",
       " {'fake': True, 'source': 53, 'target': 135},\n",
       " {'fake': True, 'source': 54, 'target': 61},\n",
       " {'fake': True, 'source': 54, 'target': 123},\n",
       " {'fake': True, 'source': 54, 'target': 130},\n",
       " {'fake': True, 'source': 56, 'target': 58},\n",
       " {'fake': True, 'source': 56, 'target': 81},\n",
       " {'fake': True, 'source': 56, 'target': 96},\n",
       " {'fake': True, 'source': 56, 'target': 101},\n",
       " {'fake': True, 'source': 56, 'target': 117},\n",
       " {'fake': True, 'source': 58, 'target': 81},\n",
       " {'fake': True, 'source': 58, 'target': 96},\n",
       " {'fake': True, 'source': 58, 'target': 101},\n",
       " {'fake': True, 'source': 58, 'target': 117},\n",
       " {'fake': True, 'source': 60, 'target': 135},\n",
       " {'fake': True, 'source': 61, 'target': 123},\n",
       " {'fake': True, 'source': 61, 'target': 130},\n",
       " {'fake': True, 'source': 62, 'target': 90},\n",
       " {'fake': True, 'source': 62, 'target': 108},\n",
       " {'fake': True, 'source': 62, 'target': 120},\n",
       " {'fake': True, 'source': 62, 'target': 128},\n",
       " {'fake': True, 'source': 66, 'target': 124},\n",
       " {'fake': True, 'source': 75, 'target': 107},\n",
       " {'fake': True, 'source': 76, 'target': 80},\n",
       " {'fake': True, 'source': 81, 'target': 96},\n",
       " {'fake': True, 'source': 81, 'target': 101},\n",
       " {'fake': True, 'source': 81, 'target': 117},\n",
       " {'fake': True, 'source': 90, 'target': 108},\n",
       " {'fake': True, 'source': 90, 'target': 120},\n",
       " {'fake': True, 'source': 90, 'target': 128},\n",
       " {'fake': True, 'source': 93, 'target': 97},\n",
       " {'fake': True, 'source': 93, 'target': 112},\n",
       " {'fake': True, 'source': 96, 'target': 101},\n",
       " {'fake': True, 'source': 96, 'target': 117},\n",
       " {'fake': True, 'source': 97, 'target': 112},\n",
       " {'fake': True, 'source': 101, 'target': 117},\n",
       " {'fake': True, 'source': 108, 'target': 120},\n",
       " {'fake': True, 'source': 108, 'target': 128},\n",
       " {'fake': True, 'source': 119, 'target': 136},\n",
       " {'fake': True, 'source': 120, 'target': 128},\n",
       " {'fake': True, 'source': 123, 'target': 130}]"
      ]
     },
     "execution_count": 116,
     "metadata": {},
     "output_type": "execute_result"
    }
   ],
   "source": [
    "links"
   ]
  },
  {
   "cell_type": "markdown",
   "metadata": {},
   "source": [
    "#### Generate lyrics dictionary."
   ]
  },
  {
   "cell_type": "code",
   "execution_count": 5,
   "metadata": {},
   "outputs": [],
   "source": [
    "with open('config/token.txt', 'r') as f:\n",
    "    genius_token = f.readline().strip()\n",
    "    \n",
    "lg = lyricsgenius.Genius(genius_token)\n",
    "man = SpotifyClientCredentials(client_id=spotify_id,\n",
    "                               client_secret=spotify_token)"
   ]
  },
  {
   "cell_type": "raw",
   "metadata": {
    "scrolled": true
   },
   "source": [
    "# debug shim\n",
    "u = nodes[random.randint(0, len(nodes))]\n",
    "\n",
    "res = lg.search_song(u['song'], u['artist'])\n",
    "if res:    \n",
    "    verses = [s for s in res.lyrics.split('\\n') \\\n",
    "              if '[' not in s and s is not '']\n",
    "    r = 3\n",
    "    i = random.randint(0,len(verses)-r)\n",
    "    print( verses[i:i+r] )"
   ]
  },
  {
   "cell_type": "raw",
   "metadata": {},
   "source": [
    "# convert folio from dict to list\n",
    "for k,v in tmp.items():"
   ]
  },
  {
   "cell_type": "code",
   "execution_count": 6,
   "metadata": {},
   "outputs": [],
   "source": [
    "folio = []\n",
    "with open('gen/lyrics-dict.json') as f:\n",
    "    folio = json.load(f)"
   ]
  },
  {
   "cell_type": "code",
   "execution_count": 7,
   "metadata": {
    "scrolled": true
   },
   "outputs": [
    {
     "data": {
      "text/plain": [
       "[[\"don't say a word\",\n",
       "  ['I am your poison candygram',\n",
       "   \"The love that's meant to fade away\",\n",
       "   \"Vade retro, alter ego, move aside, I'm choking on this life\"]],\n",
       " ['words as weapons',\n",
       "  ['All I really want is something beautiful to say',\n",
       "   'All I really want is something beautiful to say',\n",
       "   'Keep me locked up in your broken mind']],\n",
       " ['famous last words',\n",
       "  ['Now I know', \"That I can't make you stay\", \"But where's your heart?\"]]]"
      ]
     },
     "execution_count": 7,
     "metadata": {},
     "output_type": "execute_result"
    }
   ],
   "source": [
    "[[u['song'], u['lyrics'][0:3]] for u in folio if 'word' in u['song']]"
   ]
  },
  {
   "cell_type": "code",
   "execution_count": 9,
   "metadata": {
    "scrolled": true
   },
   "outputs": [],
   "source": [
    "# supplement file if incomplete\n",
    "def fetchLyrics(filename, ret):\n",
    "    key, lyrics = None, None\n",
    "    \n",
    "    with open(filename) as f:\n",
    "        for line in f:\n",
    "            if (line[0] is '#'):\n",
    "                if key:\n",
    "                    # push collected lyrics\n",
    "                    song, artist = key.split(', ')\n",
    "                    idx = [i for i,u in enumerate(nodes) if song in u['song'] \\\n",
    "                                                       and artist in u['artist']]\n",
    "                        # ASSERT: checking artist too yields unambiguity\n",
    "                        \n",
    "                    # ...unless they're already present (VERIFY)\n",
    "                    if len(idx) > 0 and not folio.any(u => u.id == idx):\n",
    "                        folio.append({'artist': artist, 'song': song,\n",
    "                                      'lyrics': lyrics, 'id': idx[0]})\n",
    "                    \n",
    "                key = line[1:-1].strip() # song, artist\n",
    "                lyrics = []\n",
    "            elif key:\n",
    "                s = line.strip()\n",
    "                if '[' not in s and s is not '':\n",
    "                    lyrics.append(s)\n",
    "\n",
    "fetchLyrics('config/transcriptions.txt', folio)\n",
    "fetchLyrics('config/supplements.txt', folio)\n",
    "\n",
    "# scrape Genius for everything else\n",
    "# FIXME: not updated for folio-as-list.\n",
    "for u in nodes:\n",
    "    id = u['song'] + ', ' + u['artist']\n",
    "    \n",
    "    if len([v for v in folio if u['song'] in v['song'] and u['artist'] in v['artist']]) == 0:\n",
    "        try:\n",
    "            res = lg.search_song(u['song'], u['artist'])\n",
    "            \n",
    "            verses = [s for s in res.lyrics.split('\\n') \\\n",
    "                      if '[' not in s and s is not '']\n",
    "            folio[id] = verses\n",
    "        except:\n",
    "            pass"
   ]
  },
  {
   "cell_type": "code",
   "execution_count": 12,
   "metadata": {},
   "outputs": [],
   "source": [
    "folio.sort(key = lambda u: u['id'])"
   ]
  },
  {
   "cell_type": "code",
   "execution_count": 14,
   "metadata": {},
   "outputs": [],
   "source": [
    "# json.dumps(folio)\n",
    "with open('gen/lyrics-dict.json', 'w') as f:\n",
    "    f.write(json.dumps(folio))"
   ]
  },
  {
   "cell_type": "markdown",
   "metadata": {},
   "source": [
    "#### Annotate tracks with duration."
   ]
  },
  {
   "cell_type": "code",
   "execution_count": 29,
   "metadata": {},
   "outputs": [],
   "source": [
    "with open('config/token.txt', 'r') as f:\n",
    "    spotify_id = f.readline().strip()\n",
    "    spotify_token = f.readline().strip()\n",
    "\n",
    "man = spotipy.oauth2.SpotifyClientCredentials(\n",
    "        client_id=spotify_id, client_secret=spotify_token)\n",
    "sp = spotipy.Spotify(client_credentials_manager=man)"
   ]
  },
  {
   "cell_type": "code",
   "execution_count": 33,
   "metadata": {
    "scrolled": true
   },
   "outputs": [
    {
     "ename": "SpotifyOauthError",
     "evalue": "Bad Request",
     "output_type": "error",
     "traceback": [
      "\u001b[0;31m---------------------------------------------------------------------------\u001b[0m",
      "\u001b[0;31mSpotifyOauthError\u001b[0m                         Traceback (most recent call last)",
      "\u001b[0;32m<ipython-input-33-a654d70ed97d>\u001b[0m in \u001b[0;36m<module>\u001b[0;34m()\u001b[0m\n\u001b[1;32m      3\u001b[0m \u001b[0;34m\u001b[0m\u001b[0m\n\u001b[1;32m      4\u001b[0m res = sp.search(q='track:' + u['song'] + ' artist:' + u['artist'],\n\u001b[0;32m----> 5\u001b[0;31m                 type='track', limit=1)\n\u001b[0m\u001b[1;32m      6\u001b[0m \u001b[0;32mif\u001b[0m \u001b[0mres\u001b[0m\u001b[0;34m:\u001b[0m\u001b[0;34m\u001b[0m\u001b[0m\n\u001b[1;32m      7\u001b[0m     \u001b[0mv\u001b[0m \u001b[0;34m=\u001b[0m \u001b[0mres\u001b[0m\u001b[0;34m[\u001b[0m\u001b[0;34m'tracks'\u001b[0m\u001b[0;34m]\u001b[0m\u001b[0;34m[\u001b[0m\u001b[0;34m'items'\u001b[0m\u001b[0;34m]\u001b[0m\u001b[0;34m\u001b[0m\u001b[0m\n",
      "\u001b[0;32m~/anaconda3/lib/python3.6/site-packages/spotipy/client.py\u001b[0m in \u001b[0;36msearch\u001b[0;34m(self, q, limit, offset, type, market)\u001b[0m\n\u001b[1;32m    337\u001b[0m                 \u001b[0;34m-\u001b[0m \u001b[0mmarket\u001b[0m \u001b[0;34m-\u001b[0m \u001b[0mAn\u001b[0m \u001b[0mISO\u001b[0m \u001b[0;36m3166\u001b[0m\u001b[0;34m-\u001b[0m\u001b[0;36m1\u001b[0m \u001b[0malpha\u001b[0m\u001b[0;34m-\u001b[0m\u001b[0;36m2\u001b[0m \u001b[0mcountry\u001b[0m \u001b[0mcode\u001b[0m \u001b[0;32mor\u001b[0m \u001b[0mthe\u001b[0m \u001b[0mstring\u001b[0m \u001b[0mfrom_token\u001b[0m\u001b[0;34m.\u001b[0m\u001b[0;34m\u001b[0m\u001b[0m\n\u001b[1;32m    338\u001b[0m         '''\n\u001b[0;32m--> 339\u001b[0;31m         \u001b[0;32mreturn\u001b[0m \u001b[0mself\u001b[0m\u001b[0;34m.\u001b[0m\u001b[0m_get\u001b[0m\u001b[0;34m(\u001b[0m\u001b[0;34m'search'\u001b[0m\u001b[0;34m,\u001b[0m \u001b[0mq\u001b[0m\u001b[0;34m=\u001b[0m\u001b[0mq\u001b[0m\u001b[0;34m,\u001b[0m \u001b[0mlimit\u001b[0m\u001b[0;34m=\u001b[0m\u001b[0mlimit\u001b[0m\u001b[0;34m,\u001b[0m \u001b[0moffset\u001b[0m\u001b[0;34m=\u001b[0m\u001b[0moffset\u001b[0m\u001b[0;34m,\u001b[0m \u001b[0mtype\u001b[0m\u001b[0;34m=\u001b[0m\u001b[0mtype\u001b[0m\u001b[0;34m,\u001b[0m \u001b[0mmarket\u001b[0m\u001b[0;34m=\u001b[0m\u001b[0mmarket\u001b[0m\u001b[0;34m)\u001b[0m\u001b[0;34m\u001b[0m\u001b[0m\n\u001b[0m\u001b[1;32m    340\u001b[0m \u001b[0;34m\u001b[0m\u001b[0m\n\u001b[1;32m    341\u001b[0m     \u001b[0;32mdef\u001b[0m \u001b[0muser\u001b[0m\u001b[0;34m(\u001b[0m\u001b[0mself\u001b[0m\u001b[0;34m,\u001b[0m \u001b[0muser\u001b[0m\u001b[0;34m)\u001b[0m\u001b[0;34m:\u001b[0m\u001b[0;34m\u001b[0m\u001b[0m\n",
      "\u001b[0;32m~/anaconda3/lib/python3.6/site-packages/spotipy/client.py\u001b[0m in \u001b[0;36m_get\u001b[0;34m(self, url, args, payload, **kwargs)\u001b[0m\n\u001b[1;32m    144\u001b[0m         \u001b[0;32mwhile\u001b[0m \u001b[0mretries\u001b[0m \u001b[0;34m>\u001b[0m \u001b[0;36m0\u001b[0m\u001b[0;34m:\u001b[0m\u001b[0;34m\u001b[0m\u001b[0m\n\u001b[1;32m    145\u001b[0m             \u001b[0;32mtry\u001b[0m\u001b[0;34m:\u001b[0m\u001b[0;34m\u001b[0m\u001b[0m\n\u001b[0;32m--> 146\u001b[0;31m                 \u001b[0;32mreturn\u001b[0m \u001b[0mself\u001b[0m\u001b[0;34m.\u001b[0m\u001b[0m_internal_call\u001b[0m\u001b[0;34m(\u001b[0m\u001b[0;34m'GET'\u001b[0m\u001b[0;34m,\u001b[0m \u001b[0murl\u001b[0m\u001b[0;34m,\u001b[0m \u001b[0mpayload\u001b[0m\u001b[0;34m,\u001b[0m \u001b[0mkwargs\u001b[0m\u001b[0;34m)\u001b[0m\u001b[0;34m\u001b[0m\u001b[0m\n\u001b[0m\u001b[1;32m    147\u001b[0m             \u001b[0;32mexcept\u001b[0m \u001b[0mSpotifyException\u001b[0m \u001b[0;32mas\u001b[0m \u001b[0me\u001b[0m\u001b[0;34m:\u001b[0m\u001b[0;34m\u001b[0m\u001b[0m\n\u001b[1;32m    148\u001b[0m                 \u001b[0mretries\u001b[0m \u001b[0;34m-=\u001b[0m \u001b[0;36m1\u001b[0m\u001b[0;34m\u001b[0m\u001b[0m\n",
      "\u001b[0;32m~/anaconda3/lib/python3.6/site-packages/spotipy/client.py\u001b[0m in \u001b[0;36m_internal_call\u001b[0;34m(self, method, url, payload, params)\u001b[0m\n\u001b[1;32m     98\u001b[0m         \u001b[0;32mif\u001b[0m \u001b[0;32mnot\u001b[0m \u001b[0murl\u001b[0m\u001b[0;34m.\u001b[0m\u001b[0mstartswith\u001b[0m\u001b[0;34m(\u001b[0m\u001b[0;34m'http'\u001b[0m\u001b[0;34m)\u001b[0m\u001b[0;34m:\u001b[0m\u001b[0;34m\u001b[0m\u001b[0m\n\u001b[1;32m     99\u001b[0m             \u001b[0murl\u001b[0m \u001b[0;34m=\u001b[0m \u001b[0mself\u001b[0m\u001b[0;34m.\u001b[0m\u001b[0mprefix\u001b[0m \u001b[0;34m+\u001b[0m \u001b[0murl\u001b[0m\u001b[0;34m\u001b[0m\u001b[0m\n\u001b[0;32m--> 100\u001b[0;31m         \u001b[0mheaders\u001b[0m \u001b[0;34m=\u001b[0m \u001b[0mself\u001b[0m\u001b[0;34m.\u001b[0m\u001b[0m_auth_headers\u001b[0m\u001b[0;34m(\u001b[0m\u001b[0;34m)\u001b[0m\u001b[0;34m\u001b[0m\u001b[0m\n\u001b[0m\u001b[1;32m    101\u001b[0m         \u001b[0mheaders\u001b[0m\u001b[0;34m[\u001b[0m\u001b[0;34m'Content-Type'\u001b[0m\u001b[0;34m]\u001b[0m \u001b[0;34m=\u001b[0m \u001b[0;34m'application/json'\u001b[0m\u001b[0;34m\u001b[0m\u001b[0m\n\u001b[1;32m    102\u001b[0m \u001b[0;34m\u001b[0m\u001b[0m\n",
      "\u001b[0;32m~/anaconda3/lib/python3.6/site-packages/spotipy/client.py\u001b[0m in \u001b[0;36m_auth_headers\u001b[0;34m(self)\u001b[0m\n\u001b[1;32m     88\u001b[0m             \u001b[0;32mreturn\u001b[0m \u001b[0;34m{\u001b[0m\u001b[0;34m'Authorization'\u001b[0m\u001b[0;34m:\u001b[0m \u001b[0;34m'Bearer {0}'\u001b[0m\u001b[0;34m.\u001b[0m\u001b[0mformat\u001b[0m\u001b[0;34m(\u001b[0m\u001b[0mself\u001b[0m\u001b[0;34m.\u001b[0m\u001b[0m_auth\u001b[0m\u001b[0;34m)\u001b[0m\u001b[0;34m}\u001b[0m\u001b[0;34m\u001b[0m\u001b[0m\n\u001b[1;32m     89\u001b[0m         \u001b[0;32melif\u001b[0m \u001b[0mself\u001b[0m\u001b[0;34m.\u001b[0m\u001b[0mclient_credentials_manager\u001b[0m\u001b[0;34m:\u001b[0m\u001b[0;34m\u001b[0m\u001b[0m\n\u001b[0;32m---> 90\u001b[0;31m             \u001b[0mtoken\u001b[0m \u001b[0;34m=\u001b[0m \u001b[0mself\u001b[0m\u001b[0;34m.\u001b[0m\u001b[0mclient_credentials_manager\u001b[0m\u001b[0;34m.\u001b[0m\u001b[0mget_access_token\u001b[0m\u001b[0;34m(\u001b[0m\u001b[0;34m)\u001b[0m\u001b[0;34m\u001b[0m\u001b[0m\n\u001b[0m\u001b[1;32m     91\u001b[0m             \u001b[0;32mreturn\u001b[0m \u001b[0;34m{\u001b[0m\u001b[0;34m'Authorization'\u001b[0m\u001b[0;34m:\u001b[0m \u001b[0;34m'Bearer {0}'\u001b[0m\u001b[0;34m.\u001b[0m\u001b[0mformat\u001b[0m\u001b[0;34m(\u001b[0m\u001b[0mtoken\u001b[0m\u001b[0;34m)\u001b[0m\u001b[0;34m}\u001b[0m\u001b[0;34m\u001b[0m\u001b[0m\n\u001b[1;32m     92\u001b[0m         \u001b[0;32melse\u001b[0m\u001b[0;34m:\u001b[0m\u001b[0;34m\u001b[0m\u001b[0m\n",
      "\u001b[0;32m~/anaconda3/lib/python3.6/site-packages/spotipy/oauth2.py\u001b[0m in \u001b[0;36mget_access_token\u001b[0;34m(self)\u001b[0m\n\u001b[1;32m     55\u001b[0m             \u001b[0;32mreturn\u001b[0m \u001b[0mself\u001b[0m\u001b[0;34m.\u001b[0m\u001b[0mtoken_info\u001b[0m\u001b[0;34m[\u001b[0m\u001b[0;34m'access_token'\u001b[0m\u001b[0;34m]\u001b[0m\u001b[0;34m\u001b[0m\u001b[0m\n\u001b[1;32m     56\u001b[0m \u001b[0;34m\u001b[0m\u001b[0m\n\u001b[0;32m---> 57\u001b[0;31m         \u001b[0mtoken_info\u001b[0m \u001b[0;34m=\u001b[0m \u001b[0mself\u001b[0m\u001b[0;34m.\u001b[0m\u001b[0m_request_access_token\u001b[0m\u001b[0;34m(\u001b[0m\u001b[0;34m)\u001b[0m\u001b[0;34m\u001b[0m\u001b[0m\n\u001b[0m\u001b[1;32m     58\u001b[0m         \u001b[0mtoken_info\u001b[0m \u001b[0;34m=\u001b[0m \u001b[0mself\u001b[0m\u001b[0;34m.\u001b[0m\u001b[0m_add_custom_values_to_token_info\u001b[0m\u001b[0;34m(\u001b[0m\u001b[0mtoken_info\u001b[0m\u001b[0;34m)\u001b[0m\u001b[0;34m\u001b[0m\u001b[0m\n\u001b[1;32m     59\u001b[0m         \u001b[0mself\u001b[0m\u001b[0;34m.\u001b[0m\u001b[0mtoken_info\u001b[0m \u001b[0;34m=\u001b[0m \u001b[0mtoken_info\u001b[0m\u001b[0;34m\u001b[0m\u001b[0m\n",
      "\u001b[0;32m~/anaconda3/lib/python3.6/site-packages/spotipy/oauth2.py\u001b[0m in \u001b[0;36m_request_access_token\u001b[0;34m(self)\u001b[0m\n\u001b[1;32m     74\u001b[0m             headers=headers, verify=True, proxies=self.proxies)\n\u001b[1;32m     75\u001b[0m         \u001b[0;32mif\u001b[0m \u001b[0mresponse\u001b[0m\u001b[0;34m.\u001b[0m\u001b[0mstatus_code\u001b[0m \u001b[0;32mis\u001b[0m \u001b[0;32mnot\u001b[0m \u001b[0;36m200\u001b[0m\u001b[0;34m:\u001b[0m\u001b[0;34m\u001b[0m\u001b[0m\n\u001b[0;32m---> 76\u001b[0;31m             \u001b[0;32mraise\u001b[0m \u001b[0mSpotifyOauthError\u001b[0m\u001b[0;34m(\u001b[0m\u001b[0mresponse\u001b[0m\u001b[0;34m.\u001b[0m\u001b[0mreason\u001b[0m\u001b[0;34m)\u001b[0m\u001b[0;34m\u001b[0m\u001b[0m\n\u001b[0m\u001b[1;32m     77\u001b[0m         \u001b[0mtoken_info\u001b[0m \u001b[0;34m=\u001b[0m \u001b[0mresponse\u001b[0m\u001b[0;34m.\u001b[0m\u001b[0mjson\u001b[0m\u001b[0;34m(\u001b[0m\u001b[0;34m)\u001b[0m\u001b[0;34m\u001b[0m\u001b[0m\n\u001b[1;32m     78\u001b[0m         \u001b[0;32mreturn\u001b[0m \u001b[0mtoken_info\u001b[0m\u001b[0;34m\u001b[0m\u001b[0m\n",
      "\u001b[0;31mSpotifyOauthError\u001b[0m: Bad Request"
     ]
    }
   ],
   "source": [
    "# debug shim\n",
    "import asyncio\n",
    "\n",
    "res = sp.search(q='track:' + u['song'] + ' artist:' + u['artist'],\n",
    "                type='track', limit=1)\n",
    "if res:\n",
    "    v = res['tracks']['items']\n",
    "    return v[0].keys()"
   ]
  },
  {
   "cell_type": "code",
   "execution_count": null,
   "metadata": {
    "scrolled": true
   },
   "outputs": [],
   "source": [
    "for i,u in enumerate(nodes):\n",
    "    res = sp.search(q='track:' + u['song'] + ' artist:' + u['artist'],\n",
    "                        type='track', limit=1)\n",
    "\n",
    "    v = res['tracks']['items']\n",
    "    if len(v) > 0:\n",
    "        u['duration'] = v[0]['duration_ms'] / 1000\n",
    "        u['year'] = v[0]['album']['release_date'].split('-')[0]\n",
    "        u['weight'] = v[0]['popularity']\n",
    "        \n",
    "    if i%50 == 0:\n",
    "        print('...')\n",
    "\n",
    "    # seconds = v['duration_ms'] / 1000\n",
    "    # m,s = int(seconds//60), int(seconds%60)"
   ]
  },
  {
   "cell_type": "markdown",
   "metadata": {},
   "source": [
    "Workaround while Spotipy is broken - use existing scrape."
   ]
  },
  {
   "cell_type": "code",
   "execution_count": 117,
   "metadata": {},
   "outputs": [],
   "source": [
    "with open('gen/thumbprint-graph-song.json') as f:\n",
    "    legacy = json.load(f)['nodes']"
   ]
  },
  {
   "cell_type": "code",
   "execution_count": 118,
   "metadata": {},
   "outputs": [],
   "source": [
    "for i,u in enumerate(nodes):\n",
    "    res = [v for v in legacy if v['artist'] == u['artist'] and v['song'] == u['song']]\n",
    "    if res != []:\n",
    "        nodes[i] = res[0]"
   ]
  },
  {
   "cell_type": "code",
   "execution_count": 119,
   "metadata": {},
   "outputs": [],
   "source": [
    "for i,u in enumerate(nodes):\n",
    "    u['id'] = i\n",
    "\n",
    "with open(\"gen/thumbprint-graph.json\", \"w\") as f:\n",
    "    f.write( json.dumps(dict(nodes=nodes, links=links)) )"
   ]
  },
  {
   "cell_type": "markdown",
   "metadata": {},
   "source": [
    "#### Associational lyrics reads"
   ]
  },
  {
   "cell_type": "code",
   "execution_count": 79,
   "metadata": {
    "scrolled": true
   },
   "outputs": [
    {
     "name": "stdout",
     "output_type": "stream",
     "text": [
      "{'song': 'shy', 'artist': 'sonata arctica'} {'song': 'ghosting', 'artist': 'daylight dies'}\n"
     ]
    },
    {
     "ename": "NameError",
     "evalue": "name 'folio' is not defined",
     "output_type": "error",
     "traceback": [
      "\u001b[0;31m---------------------------------------------------------------------------\u001b[0m",
      "\u001b[0;31mNameError\u001b[0m                                 Traceback (most recent call last)",
      "\u001b[0;32m<ipython-input-79-57d6a9d16ea1>\u001b[0m in \u001b[0;36m<module>\u001b[0;34m()\u001b[0m\n\u001b[1;32m      4\u001b[0m \u001b[0mprint\u001b[0m\u001b[0;34m(\u001b[0m\u001b[0mnodes\u001b[0m\u001b[0;34m[\u001b[0m\u001b[0mi\u001b[0m\u001b[0;34m]\u001b[0m\u001b[0;34m,\u001b[0m \u001b[0mnodes\u001b[0m\u001b[0;34m[\u001b[0m\u001b[0mj\u001b[0m\u001b[0;34m]\u001b[0m\u001b[0;34m)\u001b[0m\u001b[0;34m\u001b[0m\u001b[0m\n\u001b[1;32m      5\u001b[0m \u001b[0;34m\u001b[0m\u001b[0m\n\u001b[0;32m----> 6\u001b[0;31m \u001b[0mlhs\u001b[0m \u001b[0;34m=\u001b[0m \u001b[0mrandom\u001b[0m\u001b[0;34m.\u001b[0m\u001b[0mchoice\u001b[0m\u001b[0;34m(\u001b[0m\u001b[0mfolio\u001b[0m\u001b[0;34m[\u001b[0m\u001b[0mi\u001b[0m\u001b[0;34m]\u001b[0m\u001b[0;34m[\u001b[0m\u001b[0;34m'lyrics'\u001b[0m\u001b[0;34m]\u001b[0m\u001b[0;34m)\u001b[0m\u001b[0;34m\u001b[0m\u001b[0m\n\u001b[0m\u001b[1;32m      7\u001b[0m \u001b[0mrhs\u001b[0m \u001b[0;34m=\u001b[0m \u001b[0mrandom\u001b[0m\u001b[0;34m.\u001b[0m\u001b[0mchoice\u001b[0m\u001b[0;34m(\u001b[0m\u001b[0mfolio\u001b[0m\u001b[0;34m[\u001b[0m\u001b[0mj\u001b[0m\u001b[0;34m]\u001b[0m\u001b[0;34m[\u001b[0m\u001b[0;34m'lyrics'\u001b[0m\u001b[0;34m]\u001b[0m\u001b[0;34m)\u001b[0m\u001b[0;34m\u001b[0m\u001b[0m\n\u001b[1;32m      8\u001b[0m \u001b[0mlhs\u001b[0m\u001b[0;34m,\u001b[0m \u001b[0mrhs\u001b[0m\u001b[0;34m\u001b[0m\u001b[0m\n",
      "\u001b[0;31mNameError\u001b[0m: name 'folio' is not defined"
     ]
    }
   ],
   "source": [
    "g = links[random.randint(0, len(links))]\n",
    "# for g in links:\n",
    "i,j = g['source'], g['target']\n",
    "print(nodes[i], nodes[j])\n",
    "\n",
    "lhs = random.choice(folio[i]['lyrics'])\n",
    "rhs = random.choice(folio[j]['lyrics'])\n",
    "lhs, rhs"
   ]
  },
  {
   "cell_type": "markdown",
   "metadata": {},
   "source": [
    "~~FIXME: Cache lyrics? Project onto the actual links, not UI space. Vary transmissions in realtime.~~\n",
    "\n",
    "FIXME: Spotipy client credentials flow broke, but I want key information.  \n",
    "Scrape Tunebat? (Also, explore Tunebat.)  \n",
    "Switch to ExpressJS wrapper?? https://spotify-client-credentials.glitch.me/"
   ]
  },
  {
   "cell_type": "markdown",
   "metadata": {},
   "source": [
    "#### Visualization (defunct)\n",
    "\n",
    "Sadly, the 'a-scene' likes to take over the entire notebook, instead of being a widget. "
   ]
  },
  {
   "cell_type": "raw",
   "metadata": {},
   "source": [
    "%%javascript\n",
    "// https://stackoverflow.com/a/33046042\n",
    "requirejs.config({\n",
    "    paths: { \n",
    "        'aframe': ['//aframe.io/releases/0.8.2/aframe.min'], // require adds '.js'\n",
    "        'forcegraph': ['//cdn.jsdelivr.net/gh/vasturiano/aframe-forcegraph-component/' +\n",
    "                       'dist/aframe-forcegraph-component.min']\n",
    "    },\n",
    "});\n",
    "\n",
    "require(['aframe', 'forcegraph'], function(u,v) {\n",
    "    console.log(\"Loaded :)\")\n",
    "    return {}\n",
    "});"
   ]
  },
  {
   "cell_type": "raw",
   "metadata": {},
   "source": [
    "%%html\n",
    "<a-scene stats>\n",
    "  <a-camera wasd-controls=\"fly: true; acceleration: 600\">\n",
    "    <a-cursor color=\"lavender\" opacity=\"0.5\"></a-cursor>\n",
    "  </a-camera>\n",
    "  <a-sky color=\"#002\"></a-sky>\n",
    "\n",
    "  <a-entity forcegraph=\"json-url: thumbprint-graph.json; node-label: id; node-auto-color-by: group; link-directional-arrow-length: 1.5; link-directional-arrow-rel-pos: 1;\"></a-entity>\n",
    "</a-scene>"
   ]
  }
 ],
 "metadata": {
  "kernelspec": {
   "display_name": "Python 3",
   "language": "python",
   "name": "python3"
  },
  "language_info": {
   "codemirror_mode": {
    "name": "ipython",
    "version": 3
   },
   "file_extension": ".py",
   "mimetype": "text/x-python",
   "name": "python",
   "nbconvert_exporter": "python",
   "pygments_lexer": "ipython3",
   "version": "3.6.4"
  }
 },
 "nbformat": 4,
 "nbformat_minor": 2
}
