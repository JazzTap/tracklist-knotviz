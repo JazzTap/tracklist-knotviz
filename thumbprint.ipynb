{
 "cells": [
  {
   "cell_type": "markdown",
   "metadata": {},
   "source": [
    "Munges CSV to JSON for playlist graph."
   ]
  },
  {
   "cell_type": "code",
   "execution_count": 289,
   "metadata": {},
   "outputs": [],
   "source": [
    "import json\n",
    "import random\n",
    "import lyricsgenius # has aggressive versioning requirements\n",
    "import spotipy"
   ]
  },
  {
   "cell_type": "code",
   "execution_count": 290,
   "metadata": {},
   "outputs": [
    {
     "data": {
      "text/plain": [
       "{'artist': 'maniac bloom', 'song': 'everything i saved you from'}"
      ]
     },
     "execution_count": 290,
     "metadata": {},
     "output_type": "execute_result"
    }
   ],
   "source": [
    "rows = []\n",
    "with open('thumbprint.csv') as f:\n",
    "    cols = [s.strip() for s in f.readline().split(',')]\n",
    "    for line in f:\n",
    "        if '---' not in line:\n",
    "            # linker will remove duplicates\n",
    "            rows.append( dict(zip(cols, [s.strip() for s in line.split(',')])) )\n",
    "\n",
    "        # else: rows.append( dict(empty=True) )\n",
    "rows[-2]"
   ]
  },
  {
   "cell_type": "code",
   "execution_count": 291,
   "metadata": {},
   "outputs": [
    {
     "data": {
      "text/plain": [
       "45"
      ]
     },
     "execution_count": 291,
     "metadata": {},
     "output_type": "execute_result"
    }
   ],
   "source": [
    "links = []\n",
    "\n",
    "u = rows[0]\n",
    "nodes = [u]\n",
    "\n",
    "i,j = 0,1 # indexes of u,v\n",
    "k = 0 # duplicate count\n",
    "\n",
    "for v in rows[1:]:\n",
    "    if v in nodes:\n",
    "        j = nodes.index(v)\n",
    "        k += 1\n",
    "    else:\n",
    "        j = len(nodes)\n",
    "        nodes.append(v)\n",
    "    \n",
    "    if i != 0 and j != 0:\n",
    "        links.append( dict(source=i, target=j) )\n",
    "    i = j\n",
    "    u = v\n",
    "    \n",
    "k"
   ]
  },
  {
   "cell_type": "markdown",
   "metadata": {},
   "source": [
    "#### Annotate tracks.\n",
    "WIP"
   ]
  },
  {
   "cell_type": "code",
   "execution_count": 292,
   "metadata": {},
   "outputs": [],
   "source": [
    "u = nodes[random.randint(0, len(nodes))]\n",
    "\n",
    "with open('token.txt', 'r') as f:\n",
    "    genius_token = f.readline().strip()\n",
    "    spotify_id = f.readline().strip()\n",
    "    spotify_token = f.readline().strip()"
   ]
  },
  {
   "cell_type": "code",
   "execution_count": 293,
   "metadata": {
    "scrolled": true
   },
   "outputs": [
    {
     "name": "stdout",
     "output_type": "stream",
     "text": [
      "Searching for \"the twyncyn / trembling willows\" by pure reason revolution...\n",
      "Done.\n"
     ]
    },
    {
     "data": {
      "text/plain": [
       "('The Twyncyn / Trembling Willows', 'Pure Reason Revolution')"
      ]
     },
     "execution_count": 293,
     "metadata": {},
     "output_type": "execute_result"
    }
   ],
   "source": [
    "api = lyricsgenius.Genius(genius_token)\n",
    "res = api.search_song(u['song'], u['artist'])\n",
    "res"
   ]
  },
  {
   "cell_type": "code",
   "execution_count": 297,
   "metadata": {},
   "outputs": [
    {
     "name": "stdout",
     "output_type": "stream",
     "text": [
      "['Through warm shine', 'Clear as the fountains', 'Round the twyncyn']\n"
     ]
    }
   ],
   "source": [
    "verses = res.lyrics.split('\\n')\n",
    "verses = [s for s in verses if '[' not in s and s is not '']\n",
    "\n",
    "r = 3\n",
    "i = random.randint(0,len(verses)-r)\n",
    "\n",
    "print( verses[i:i+r] )"
   ]
  },
  {
   "cell_type": "code",
   "execution_count": 298,
   "metadata": {
    "scrolled": false
   },
   "outputs": [],
   "source": [
    "from spotipy.oauth2 import SpotifyClientCredentials\n",
    "\n",
    "man = SpotifyClientCredentials(client_id=spotify_id,\n",
    "                               client_secret=spotify_token)\n",
    "sp = spotipy.Spotify(client_credentials_manager=man)"
   ]
  },
  {
   "cell_type": "code",
   "execution_count": 302,
   "metadata": {},
   "outputs": [
    {
     "ename": "IndexError",
     "evalue": "list index out of range",
     "output_type": "error",
     "traceback": [
      "\u001b[0;31m---------------------------------------------------------------------------\u001b[0m",
      "\u001b[0;31mIndexError\u001b[0m                                Traceback (most recent call last)",
      "\u001b[0;32m<ipython-input-302-c29bdf782d56>\u001b[0m in \u001b[0;36m<module>\u001b[0;34m()\u001b[0m\n\u001b[1;32m      2\u001b[0m                 type='track', limit=1)\n\u001b[1;32m      3\u001b[0m \u001b[0mv\u001b[0m \u001b[0;34m=\u001b[0m \u001b[0mres\u001b[0m\u001b[0;34m[\u001b[0m\u001b[0;34m'tracks'\u001b[0m\u001b[0;34m]\u001b[0m\u001b[0;34m[\u001b[0m\u001b[0;34m'items'\u001b[0m\u001b[0;34m]\u001b[0m\u001b[0;34m\u001b[0m\u001b[0m\n\u001b[0;32m----> 4\u001b[0;31m \u001b[0mv\u001b[0m\u001b[0;34m[\u001b[0m\u001b[0;36m0\u001b[0m\u001b[0;34m]\u001b[0m\u001b[0;34m.\u001b[0m\u001b[0mkeys\u001b[0m\u001b[0;34m(\u001b[0m\u001b[0;34m)\u001b[0m\u001b[0;34m\u001b[0m\u001b[0m\n\u001b[0m",
      "\u001b[0;31mIndexError\u001b[0m: list index out of range"
     ]
    }
   ],
   "source": [
    "res = sp.search(q='track:' + u['song'] + ' artist:' + u['artist'],\n",
    "                type='track', limit=1)\n",
    "v = res['tracks']['items']\n",
    "v[0].keys()"
   ]
  },
  {
   "cell_type": "markdown",
   "metadata": {},
   "source": [
    "#### Annotate tracks with duration."
   ]
  },
  {
   "cell_type": "code",
   "execution_count": 303,
   "metadata": {
    "scrolled": true
   },
   "outputs": [
    {
     "name": "stdout",
     "output_type": "stream",
     "text": [
      "...\n",
      "...\n",
      "...\n"
     ]
    }
   ],
   "source": [
    "for i,u in enumerate(nodes):\n",
    "    res = sp.search(q='track:' + u['song'] + ' artist:' + u['artist'],\n",
    "                        type='track', limit=1)\n",
    "\n",
    "    v = res['tracks']['items']\n",
    "    if len(v) > 0:\n",
    "        u['duration'] = v[0]['duration_ms'] / 1000\n",
    "        u['year'] = v[0]['album']['release_date'].split('-')[0]\n",
    "        u['weight'] = v[0]['popularity']\n",
    "        \n",
    "    if i%50 == 0:\n",
    "        print('...')\n",
    "\n",
    "    # seconds = v['duration_ms'] / 1000\n",
    "    # m,s = int(seconds//60), int(seconds%60)"
   ]
  },
  {
   "cell_type": "code",
   "execution_count": 281,
   "metadata": {
    "scrolled": true
   },
   "outputs": [
    {
     "name": "stdout",
     "output_type": "stream",
     "text": [
      "{'song': 'dancer in the dark', 'artist': 'the rasmus'} {'song': 'paint it black', 'artist': 'ciara', 'duration': 234.146, 'year': '2015', 'weight': 57}\n",
      "Searching for \"dancer in the dark\" by the rasmus...\n",
      "Done.\n",
      "Searching for \"paint it black\" by ciara...\n",
      "Done.\n"
     ]
    }
   ],
   "source": [
    "g = links[random.randint(0, len(links))]\n",
    "# for g in links:\n",
    "i,j = g['source'], g['target']\n",
    "print(nodes[i], nodes[j])\n",
    "\n",
    "res = []\n",
    "for u in [nodes[i], nodes[j]]:\n",
    "    res.append( api.search_song(u['song'], u['artist']) )\n",
    "    \n",
    "lhs = [s for s in res[0].lyrics.split('\\n') if '[' not in s and s is not '']\n",
    "rhs = [s for s in res[1].lyrics.split('\\n') if '[' not in s and s is not '']"
   ]
  },
  {
   "cell_type": "code",
   "execution_count": 287,
   "metadata": {},
   "outputs": [
    {
     "data": {
      "text/plain": [
       "('You heard it calling, but you turned your face, never played your part',\n",
       " 'My love will laugh with me before the morning comes')"
      ]
     },
     "execution_count": 287,
     "metadata": {},
     "output_type": "execute_result"
    }
   ],
   "source": [
    "# g['lhs'] = random.choice(lhs)\n",
    "# g['rhs'] = random.choice(rhs)\n",
    "# g['lhs'], g['rhs']"
   ]
  },
  {
   "cell_type": "markdown",
   "metadata": {},
   "source": [
    "FIXME: Cache lyrics? Project onto the actual links, not UI space. Vary transmissions in realtime."
   ]
  },
  {
   "cell_type": "markdown",
   "metadata": {},
   "source": [
    "#### Write to json."
   ]
  },
  {
   "cell_type": "code",
   "execution_count": 304,
   "metadata": {},
   "outputs": [],
   "source": [
    "for i,u in enumerate(nodes):\n",
    "    u['id'] = i\n",
    "\n",
    "with open(\"thumbprint-graph.json\", \"w\") as f:\n",
    "    f.write( json.dumps(dict(nodes=nodes[1:], links=links)) )"
   ]
  },
  {
   "cell_type": "markdown",
   "metadata": {},
   "source": [
    "Sadly, the 'a-scene' likes to take over the entire notebook, instead of being a widget. "
   ]
  },
  {
   "cell_type": "raw",
   "metadata": {},
   "source": [
    "%%javascript\n",
    "// https://stackoverflow.com/a/33046042\n",
    "requirejs.config({\n",
    "    paths: { \n",
    "        'aframe': ['//aframe.io/releases/0.8.2/aframe.min'], // require adds '.js'\n",
    "        'forcegraph': ['//cdn.jsdelivr.net/gh/vasturiano/aframe-forcegraph-component/' +\n",
    "                       'dist/aframe-forcegraph-component.min']\n",
    "    },\n",
    "});\n",
    "\n",
    "require(['aframe', 'forcegraph'], function(u,v) {\n",
    "    console.log(\"Loaded :)\")\n",
    "    return {}\n",
    "});"
   ]
  },
  {
   "cell_type": "raw",
   "metadata": {},
   "source": [
    "%%html\n",
    "<a-scene stats>\n",
    "  <a-camera wasd-controls=\"fly: true; acceleration: 600\">\n",
    "    <a-cursor color=\"lavender\" opacity=\"0.5\"></a-cursor>\n",
    "  </a-camera>\n",
    "  <a-sky color=\"#002\"></a-sky>\n",
    "\n",
    "  <a-entity forcegraph=\"json-url: thumbprint-graph.json; node-label: id; node-auto-color-by: group; link-directional-arrow-length: 1.5; link-directional-arrow-rel-pos: 1;\"></a-entity>\n",
    "</a-scene>"
   ]
  }
 ],
 "metadata": {
  "kernelspec": {
   "display_name": "Python 3",
   "language": "python",
   "name": "python3"
  },
  "language_info": {
   "codemirror_mode": {
    "name": "ipython",
    "version": 3
   },
   "file_extension": ".py",
   "mimetype": "text/x-python",
   "name": "python",
   "nbconvert_exporter": "python",
   "pygments_lexer": "ipython3",
   "version": "3.6.4"
  }
 },
 "nbformat": 4,
 "nbformat_minor": 2
}
